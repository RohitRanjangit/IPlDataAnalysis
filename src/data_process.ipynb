{
 "cells": [
  {
   "cell_type": "code",
   "execution_count": 34,
   "metadata": {},
   "outputs": [],
   "source": [
    "\"\"\"\n",
    "This file has to do with all data preprocessing needed for data.\n",
    "Then import corresping dataframe to required file.\n",
    "\"\"\"\n",
    "import pandas as pd\n",
    "import numpy as np"
   ]
  },
  {
   "cell_type": "code",
   "execution_count": 35,
   "metadata": {},
   "outputs": [],
   "source": [
    "points_table = pd.read_csv('../data/merged/points_table.csv')\n",
    "season_batting_card = pd.read_csv('../data/merged/season_batting_card.csv')\n",
    "season_bowling_card = pd.read_csv('../data/merged/season_bowling_card.csv')\n",
    "season_details = pd.read_csv('../data/merged/season_details.csv', low_memory = False)\n",
    "season_summary = pd.read_csv('../data/merged/season_summary.csv')"
   ]
  },
  {
   "cell_type": "code",
   "execution_count": 36,
   "metadata": {},
   "outputs": [],
   "source": [
    "points_table_df = pd.DataFrame(points_table)\n",
    "season_batting_card_df = pd.DataFrame(season_batting_card)\n",
    "season_bowling_card_df = pd.DataFrame(season_bowling_card)\n",
    "season_details_df = pd.DataFrame(season_details)\n",
    "season_summary_df = pd.DataFrame(season_summary)"
   ]
  },
  {
   "cell_type": "code",
   "execution_count": 37,
   "metadata": {},
   "outputs": [],
   "source": [
    "points_table_df.replace('KXIP', 'PBKS', inplace=True, regex=True)\n",
    "season_batting_card_df.replace('KXIP', 'PBKS', inplace=True, regex=True)\n",
    "season_bowling_card_df.replace('KXIP', 'PBKS', inplace=True, regex=True)\n",
    "season_details_df.replace('KXIP', 'PBKS', inplace=True, regex=True)\n",
    "season_summary_df.replace('KXIP', 'PBKS', inplace=True, regex=True)\n",
    "\n",
    "points_table_df.replace('Kings XI Punjab', 'Punjab Kings', inplace=True, regex=True)\n",
    "season_batting_card_df.replace('Kings XI Punjab', 'Punjab Kings', inplace = True,regex=True)\n",
    "season_bowling_card_df.replace('Kings XI Punjab', 'Punjab Kings', inplace = True, regex=True)\n",
    "season_details_df.replace('Kings XI Punjab', 'Punjab Kings', inplace = True, regex=True)\n",
    "season_summary_df.replace('Kings XI Punjab', 'Punjab Kings', inplace = True, regex=True)"
   ]
  },
  {
   "cell_type": "code",
   "execution_count": 38,
   "metadata": {},
   "outputs": [],
   "source": [
    "points_table.to_csv('../data/processed/points_table.csv', index=False)\n",
    "season_batting_card.to_csv('../data/processed/season_batting_card.csv', index=False)\n",
    "season_bowling_card.to_csv('../data/processed/season_bowling_card.csv', index=False)\n",
    "season_details.to_csv('../data/processed/season_details.csv', index=False)\n",
    "season_summary.to_csv('../data/processed/season_summary.csv', index=False)"
   ]
  }
 ],
 "metadata": {
  "interpreter": {
   "hash": "31f2aee4e71d21fbe5cf8b01ff0e069b9275f58929596ceb00d14d90e3e16cd6"
  },
  "kernelspec": {
   "display_name": "Python 3.8.10 64-bit",
   "language": "python",
   "name": "python3"
  },
  "language_info": {
   "codemirror_mode": {
    "name": "ipython",
    "version": 3
   },
   "file_extension": ".py",
   "mimetype": "text/x-python",
   "name": "python",
   "nbconvert_exporter": "python",
   "pygments_lexer": "ipython3",
   "version": "3.8.10"
  },
  "orig_nbformat": 4
 },
 "nbformat": 4,
 "nbformat_minor": 2
}
