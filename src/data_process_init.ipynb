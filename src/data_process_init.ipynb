{
 "cells": [
  {
   "cell_type": "code",
   "execution_count": 53,
   "metadata": {},
   "outputs": [],
   "source": [
    "\"\"\"\n",
    "This file has to do with all data preprocessing needed for data.\n",
    "Then import corresping dataframe to required file.\n",
    "\"\"\"\n",
    "import pandas as pd\n",
    "import numpy as np"
   ]
  },
  {
   "cell_type": "code",
   "execution_count": 54,
   "metadata": {},
   "outputs": [],
   "source": [
    "points_table = pd.read_csv('../data/merged/points_table.csv')\n",
    "season_batting_card = pd.read_csv('../data/merged/season_batting_card.csv')\n",
    "season_bowling_card = pd.read_csv('../data/merged/season_bowling_card.csv')\n",
    "season_details = pd.read_csv('../data/merged/season_details.csv', low_memory = False)\n",
    "season_summary = pd.read_csv('../data/merged/season_summary.csv')"
   ]
  },
  {
   "cell_type": "code",
   "execution_count": 55,
   "metadata": {},
   "outputs": [],
   "source": [
    "points_table_df = pd.DataFrame(points_table)\n",
    "season_batting_card_df = pd.DataFrame(season_batting_card)\n",
    "season_bowling_card_df = pd.DataFrame(season_bowling_card)\n",
    "season_details_df = pd.DataFrame(season_details)\n",
    "season_summary_df = pd.DataFrame(season_summary)"
   ]
  },
  {
   "cell_type": "code",
   "execution_count": 56,
   "metadata": {},
   "outputs": [],
   "source": [
    "points_table_df.replace('KXIP', 'PBKS', inplace=True, regex=True)\n",
    "season_batting_card_df.replace('KXIP', 'PBKS', inplace=True, regex=True)\n",
    "season_bowling_card_df.replace('KXIP', 'PBKS', inplace=True, regex=True)\n",
    "season_details_df.replace('KXIP', 'PBKS', inplace=True, regex=True)\n",
    "season_summary_df.replace('KXIP', 'PBKS', inplace=True, regex=True)\n",
    "\n",
    "points_table_df.replace('Kings XI Punjab', 'Punjab Kings', inplace=True, regex=True)\n",
    "season_batting_card_df.replace('Kings XI Punjab', 'Punjab Kings', inplace = True,regex=True)\n",
    "season_bowling_card_df.replace('Kings XI Punjab', 'Punjab Kings', inplace = True, regex=True)\n",
    "season_details_df.replace('Kings XI Punjab', 'Punjab Kings', inplace = True, regex=True)\n",
    "season_summary_df.replace('Kings XI Punjab', 'Punjab Kings', inplace = True, regex=True)"
   ]
  },
  {
   "cell_type": "code",
   "execution_count": 57,
   "metadata": {},
   "outputs": [],
   "source": [
    "points_table_df.replace('Deccan Chargers', 'Sunrisers Hyderabad', inplace=True, regex=True)\n",
    "season_batting_card_df.replace('Deccan Chargers', 'Sunrisers Hyderabad', inplace = True,regex=True)\n",
    "season_bowling_card_df.replace('Deccan Chargers',  'Sunrisers Hyderabad', inplace = True, regex=True)\n",
    "season_details_df.replace('Deccan Chargers', 'Sunrisers Hyderabad', inplace = True, regex=True)\n",
    "season_summary_df.replace('Deccan Chargers', 'Sunrisers Hyderabad', inplace = True, regex=True)"
   ]
  },
  {
   "cell_type": "code",
   "execution_count": 58,
   "metadata": {},
   "outputs": [],
   "source": [
    "points_table_df.replace('Delhi Daredevils', 'Delhi Capitals', inplace=True, regex=True)\n",
    "season_batting_card_df.replace('Delhi Daredevils', 'Delhi Capitals', inplace = True,regex=True)\n",
    "season_bowling_card_df.replace('Delhi Daredevils',  'Delhi Capitals', inplace = True, regex=True)\n",
    "season_details_df.replace('Delhi Daredevils', 'Delhi Capitals', inplace = True, regex=True)\n",
    "season_summary_df.replace('Delhi Daredevils', 'Delhi Capitals', inplace = True, regex=True)"
   ]
  },
  {
   "cell_type": "code",
   "execution_count": 59,
   "metadata": {},
   "outputs": [],
   "source": [
    "points_table_df.replace('Rising Pune Supergiants', 'Rising Pune Supergiant', inplace=True, regex=True)\n",
    "season_batting_card_df.replace('Rising Pune Supergiants', 'Rising Pune Supergiant', inplace = True,regex=True)\n",
    "season_bowling_card_df.replace('Rising Pune Supergiants',  'Rising Pune Supergiant', inplace = True, regex=True)\n",
    "season_details_df.replace('Rising Pune Supergiants', 'Rising Pune Supergiant', inplace = True, regex=True)\n",
    "season_summary_df.replace('Rising Pune Supergiants', 'Rising Pune Supergiant', inplace = True, regex=True)"
   ]
  },
  {
   "cell_type": "code",
   "execution_count": 60,
   "metadata": {},
   "outputs": [],
   "source": [
    "team_code_dict = dict(zip(points_table_df['name'], points_table_df['short_name']))\n",
    "team_name_dict = dict(zip(points_table_df['short_name'], points_table_df['name']))"
   ]
  },
  {
   "cell_type": "code",
   "execution_count": 61,
   "metadata": {},
   "outputs": [],
   "source": [
    "season_summary_df['short_name'] = season_summary_df['name'].apply(lambda x: ' v '.join([team_code_dict[t] for t in x.split(' v ')]))\n",
    "season_summary_df['home_team'] = season_summary_df['short_name'].apply(lambda x: x.split(' v ')[0])\n",
    "season_summary_df['away_team'] = season_summary_df['short_name'].apply(lambda x: x.split(' v ')[1])"
   ]
  },
  {
   "cell_type": "code",
   "execution_count": 62,
   "metadata": {},
   "outputs": [
    {
     "data": {
      "text/plain": [
       "Index(['comment_id', 'season', 'match_id', 'match_name', 'home_team',\n",
       "       'away_team', 'current_innings', 'innings_id', 'over', 'ball', 'runs',\n",
       "       'shortText', 'isBoundary', 'isWide', 'isNoball', 'batsman1_id',\n",
       "       'batsman1_name', 'batsman1_runs', 'batsman1_balls', 'bowler1_id',\n",
       "       'bowler1_name', 'bowler1_overs', 'bowler1_maidens', 'bowler1_runs',\n",
       "       'bowler1_wkts', 'batsman2_id', 'batsman2_name', 'batsman2_runs',\n",
       "       'batsman2_balls', 'bowler2_id', 'bowler2_name', 'bowler2_overs',\n",
       "       'bowler2_maidens', 'bowler2_runs', 'bowler2_wkts', 'wicket_id',\n",
       "       'wkt_batsman_name', 'wkt_bowler_name', 'wkt_batsman_runs',\n",
       "       'wkt_batsman_balls', 'wkt_text', 'isRetiredHurt', 'text', 'preText',\n",
       "       'postText'],\n",
       "      dtype='object')"
      ]
     },
     "execution_count": 62,
     "metadata": {},
     "output_type": "execute_result"
    }
   ],
   "source": [
    "season_details_df.columns"
   ]
  },
  {
   "cell_type": "code",
   "execution_count": 63,
   "metadata": {},
   "outputs": [],
   "source": [
    "# for row in season_details_df.itertuples():\n",
    "#     if row.match_name != season_summary_df[season_summary_df['id'] == row.match_id]['short_name'].values[0]:\n",
    "#         print(row.match_name, season_summary_df[season_summary_df['id'] == row.match_id]['short_name'].values[0])\n",
    "season_details_df['match_name'] = season_details_df['match_id'].apply(lambda x: season_summary_df[season_summary_df['id'] == x]['short_name'].values[0])\n",
    "season_details_df['home_team'] = season_details_df['match_id'].apply(lambda x: season_summary_df[season_summary_df['id'] == x]['home_team'].values[0])\n",
    "season_details_df['away_team'] = season_details_df['match_id'].apply(lambda x: season_summary_df[season_summary_df['id'] == x]['away_team'].values[0])"
   ]
  },
  {
   "cell_type": "code",
   "execution_count": 64,
   "metadata": {},
   "outputs": [
    {
     "data": {
      "text/plain": [
       "Index(['season', 'match_id', 'match_name', 'home_team', 'away_team', 'venue',\n",
       "       'city', 'country', 'current_innings', 'innings_id', 'name', 'fullName',\n",
       "       'runs', 'ballsFaced', 'minutes', 'fours', 'sixes', 'strikeRate',\n",
       "       'captain', 'isNotOut', 'runningScore', 'runningOver', 'shortText',\n",
       "       'commentary', 'link'],\n",
       "      dtype='object')"
      ]
     },
     "execution_count": 64,
     "metadata": {},
     "output_type": "execute_result"
    }
   ],
   "source": [
    "season_batting_card_df.columns"
   ]
  },
  {
   "cell_type": "code",
   "execution_count": null,
   "metadata": {},
   "outputs": [],
   "source": [
    "# for row in season_batting_card_df.itertuples():\n",
    "#     if row.match_name != season_summary_df[season_summary_df['id'] == row.match_id]['short_name'].values[0]:\n",
    "#         print(row.match_name, season_summary_df[season_summary_df['id'] == row.match_id]['short_name'].values[0])\n",
    "season_batting_card_df['match_name'] = season_batting_card_df['match_id'].apply(lambda x: season_summary_df[season_summary_df['id'] == x]['short_name'].values[0])\n",
    "season_batting_card_df['home_team'] = season_batting_card_df['match_id'].apply(lambda x: season_summary_df[season_summary_df['id'] == x]['home_team'].values[0])\n",
    "season_batting_card_df['away_team'] = season_batting_card_df['match_id'].apply(lambda x: season_summary_df[season_summary_df['id'] == x]['away_team'].values[0])"
   ]
  },
  {
   "cell_type": "code",
   "execution_count": null,
   "metadata": {},
   "outputs": [],
   "source": [
    "# for row in season_bowling_card.itertuples():\n",
    "#     if row.match_name != season_summary_df[season_summary_df['id'] == row.match_id]['short_name'].values[0]:\n",
    "#         print(row.match_name, season_summary_df[season_summary_df['id'] == row.match_id]['short_name'].values[0])\n",
    "season_bowling_card['match_name'] = season_bowling_card['match_id'].apply(lambda x: season_summary_df[season_summary_df['id'] == x]['short_name'].values[0])\n",
    "season_bowling_card['home_team'] = season_bowling_card['match_id'].apply(lambda x: season_summary_df[season_summary_df['id'] == x]['home_team'].values[0])\n",
    "season_bowling_card['away_team'] = season_bowling_card['match_id'].apply(lambda x: season_summary_df[season_summary_df['id'] == x]['away_team'].values[0])"
   ]
  },
  {
   "cell_type": "code",
   "execution_count": null,
   "metadata": {},
   "outputs": [],
   "source": [
    "points_table.to_csv('../data/processed/points_table.csv', index=False)\n",
    "season_batting_card.to_csv('../data/processed/season_batting_card.csv', index=False)\n",
    "season_bowling_card.to_csv('../data/processed/season_bowling_card.csv', index=False)\n",
    "season_details.to_csv('../data/processed/season_details.csv', index=False)\n",
    "season_summary.to_csv('../data/processed/season_summary.csv', index=False)"
   ]
  }
 ],
 "metadata": {
  "interpreter": {
   "hash": "31f2aee4e71d21fbe5cf8b01ff0e069b9275f58929596ceb00d14d90e3e16cd6"
  },
  "kernelspec": {
   "display_name": "Python 3.8.10 64-bit",
   "language": "python",
   "name": "python3"
  },
  "language_info": {
   "codemirror_mode": {
    "name": "ipython",
    "version": 3
   },
   "file_extension": ".py",
   "mimetype": "text/x-python",
   "name": "python",
   "nbconvert_exporter": "python",
   "pygments_lexer": "ipython3",
   "version": "3.8.10"
  },
  "orig_nbformat": 4
 },
 "nbformat": 4,
 "nbformat_minor": 2
}
