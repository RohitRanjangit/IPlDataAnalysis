{
 "cells": [
  {
   "cell_type": "code",
   "execution_count": 41,
   "metadata": {},
   "outputs": [],
   "source": [
    "import pandas as pd"
   ]
  },
  {
   "cell_type": "code",
   "execution_count": null,
   "metadata": {},
   "outputs": [],
   "source": [
    "all_points_table = pd.read_csv('data/all_points_table.csv')\n",
    "points_table = pd.read_csv('data/2021/points_table.csv')\n",
    "all_points_table = points_table.append(all_points_table)\n",
    "all_points_table.to_csv('data/merged/points_table.csv', index=False)"
   ]
  },
  {
   "cell_type": "code",
   "execution_count": null,
   "metadata": {},
   "outputs": [],
   "source": [
    "all_season_batting_card = pd.read_csv('data/all_season_batting_card.csv')\n",
    "season_batting_card = pd.read_csv('data/2021/season_batting_card.csv')\n",
    "all_season_batting_card = season_batting_card.append(all_season_batting_card)\n",
    "all_season_batting_card.to_csv('data/merged/season_batting_card.csv', index=False)"
   ]
  },
  {
   "cell_type": "code",
   "execution_count": null,
   "metadata": {},
   "outputs": [],
   "source": [
    "all_season_bowling_card = pd.read_csv('data/all_season_bowling_card.csv')\n",
    "season_bowling_card = pd.read_csv('data/2021/season_bowling_card.csv')\n",
    "all_season_bowling_card = season_bowling_card.append(all_season_bowling_card)\n",
    "all_season_bowling_card.to_csv('data/merged/season_bowling_card.csv', index=False)"
   ]
  },
  {
   "cell_type": "code",
   "execution_count": null,
   "metadata": {},
   "outputs": [],
   "source": [
    "all_season_details = pd.read_csv('data/all_season_details.csv', low_memory=False)\n",
    "season_details = pd.read_csv('data/2021/season_details.csv', low_memory=False)\n",
    "all_season_details = season_details.append(all_season_details)\n",
    "all_season_details.to_csv('data/merged/season_details.csv', index=False)"
   ]
  },
  {
   "cell_type": "code",
   "execution_count": null,
   "metadata": {},
   "outputs": [],
   "source": [
    "all_season_summary = pd.read_csv('data/all_season_summary.csv')\n",
    "season_summary = pd.read_csv('data/2021/season_summary.csv')\n",
    "season_summary = season_summary.append(all_season_summary)\n",
    "season_summary.to_csv('data/merged/season_summary.csv', index=False)"
   ]
  }
 ],
 "metadata": {
  "interpreter": {
   "hash": "31f2aee4e71d21fbe5cf8b01ff0e069b9275f58929596ceb00d14d90e3e16cd6"
  },
  "kernelspec": {
   "display_name": "Python 3.8.10 64-bit",
   "language": "python",
   "name": "python3"
  },
  "language_info": {
   "codemirror_mode": {
    "name": "ipython",
    "version": 3
   },
   "file_extension": ".py",
   "mimetype": "text/x-python",
   "name": "python",
   "nbconvert_exporter": "python",
   "pygments_lexer": "ipython3",
   "version": "3.8.10"
  },
  "orig_nbformat": 4
 },
 "nbformat": 4,
 "nbformat_minor": 2
}
