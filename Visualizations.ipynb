{
 "cells": [
  {
   "cell_type": "markdown",
   "metadata": {},
   "source": [
    "# IPL DATA Analysis"
   ]
  },
  {
   "cell_type": "markdown",
   "metadata": {},
   "source": [
    "## Impact of Toss on Game Results\n",
    "### 1. No. of times team winning toss wins game <br>\n",
    "![toss Analysis](img/pngs/toss_win_to_win_count.png \"team winning toss wins\")\n",
    "### 2. Toss wins by each team <br>\n",
    "![Toss wins by each team](img/pngs/toss_won_by_team.png \"Toss wins by each team\")\n",
    "### 3. No. of times team winning toss wins final <br>\n",
    "![team winning toss wins final](img/pngs/final_win_toss_to_win.png \"team winning toss wins final\")\n",
    "### 4. Choosen bat/bowl after toss <br>\n",
    "![Choosen bat/bowl after toss](img/pngs/toss_decision.png \"Choosen bat/bowl after toss\")\n",
    "### 5. Commom toss option for each venue <br>\n",
    "![Commom toss option for each venue](img/pngs/ground_toss_decision.png \"Commom toss option for each venue\")"
   ]
  },
  {
   "cell_type": "markdown",
   "metadata": {},
   "source": [
    "## Net Run Rate for each Match\n",
    "### 1. Density plot of NRR <br>\n",
    "![Run rate Density](img/pngs/net_run_rate_density.png \"Density plot of NRR\")\n",
    "### 2. Team with highest NRR <br>\n",
    "![Team with highest NRR](img/pngs/team_with_highest_avg_net_run_rate.png \"Team with highest NRR\")"
   ]
  },
  {
   "cell_type": "markdown",
   "metadata": {},
   "source": [
    "Add some results"
   ]
  },
  {
   "cell_type": "markdown",
   "metadata": {},
   "source": [
    "## Super Over Per Season\n",
    "### 1. Add super over\n",
    "![Super over](img/pngs/super_over.png \"Super over\")\n",
    "### 2. team with most super over\n",
    "![team with most super over](img/pngs/super_over_team.png \"team with most super over\")\n",
    "### 3. team winning most super over\n",
    "![team winning most super over](img/pngs/super_over_win_team.png \"team winning most super over\")"
   ]
  },
  {
   "cell_type": "markdown",
   "metadata": {},
   "source": [
    "Add some results"
   ]
  },
  {
   "cell_type": "markdown",
   "metadata": {},
   "source": [
    "## Favourites IPL Umpires\n",
    "### 1. Favourite overall umpire <br>\n",
    "![Favourite overall umpire](img/pngs/top_umpires.png \"Favourite overall umpire\")\n",
    "### 2. Favourite umpire for play offs <br>\n",
    "![Favourite umpire for play offs](img/pngs/popular_umpire_playoff.png \"Favourite umpire for play offs\")"
   ]
  },
  {
   "cell_type": "markdown",
   "metadata": {},
   "source": [
    "results"
   ]
  },
  {
   "cell_type": "markdown",
   "metadata": {},
   "source": [
    "## Team Journey For RCB\n",
    "### 1. Journey Plot <br>\n",
    "<!-- insert img.png from img folder-->\n",
    "![Journey](img/pngs/team_journey_plot_RCB.png \"Journey Plot\") <br><br><br>\n",
    "### 2. Percentage win/loss against opponent <br>\n",
    "![Percentage win/loss against opponent](img/pngs/percentage_win_loss_against_opponent_RCB.png \"Percentage win/loss against opponent\")<br><br><br>\n",
    "###  3. Win Percentage for each season <br>\n",
    "![Win Percentage for each season](img/pngs/percentage_win_by_season_RCB.png \"Win Percentage for each season\")<br>\n",
    "### 4. Win percentage by venue<br>\n",
    "![Win percentage by venue](img/pngs/percentage_win_by_venue_RCB.png \"Win percentage by venue\")  <br>\n",
    "### 5. percentage win by innings<br><br>\n",
    "![percentage win by innings](img/pngs/percentage_win_by_innings_RCB.png \"percentage win by innings\")<br>\n",
    "### 6. All time top scorer batsman <br>\n",
    "![All time top scorer batsman](img/pngs/top_scorer_all_time_RCB.png \"All time top scorer batsman\")<br>\n",
    "### 7. top scorer against opponent <br>\n",
    "![top scorer against opponent](img/pngs/top_scorer_against_opponent_RCB.png \"top scorer against opponent\")<br><br><br>\n",
    "### 8. top run scorer per season <br>\n",
    "![top run scorer per season](img/pngs/top_run_scorer_per_season_RCB.png \"top run scorer per season\")<br><br><br>\n",
    "### 9. all time partnership<br>\n",
    "![all time partnership](img/pngs/all_time_partnership_RCB.png \"all time partnership\")<br><br><br>\n",
    "### 10. top bowlers by wicket<br>\n",
    "![top bowlers by wicket](img/pngs/top_bowlers_by_wicket_RCB.png \"top bowlers by wicket\")<br><br><br>\n",
    "### 11. top bowler against opponent<br>\n",
    "![top bowler against opponent](img/pngs/top_bowler_against_opponent_RCB.png \"top bowler against opponent\")<br><br><br>\n",
    "### 12. top bowler per season<br>\n",
    "![top bowler per season](img/pngs/top_bowler_per_season_RCB.png \"top bowler per season\")<br><br><br>"
   ]
  },
  {
   "cell_type": "markdown",
   "metadata": {},
   "source": [
    "results"
   ]
  }
 ],
 "metadata": {
  "kernelspec": {
   "display_name": "Python 3",
   "language": "python",
   "name": "python3"
  },
  "language_info": {
   "codemirror_mode": {
    "name": "ipython",
    "version": 3
   },
   "file_extension": ".py",
   "mimetype": "text/x-python",
   "name": "python",
   "nbconvert_exporter": "python",
   "pygments_lexer": "ipython3",
   "version": "3.8.10"
  }
 },
 "nbformat": 4,
 "nbformat_minor": 4
}
