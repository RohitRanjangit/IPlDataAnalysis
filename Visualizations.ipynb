{
 "cells": [
  {
   "cell_type": "markdown",
   "metadata": {},
   "source": [
    "# IPL DATA Analysis"
   ]
  },
  {
   "cell_type": "markdown",
   "metadata": {},
   "source": [
    "## Impact of Toss on Game Results\n",
    "1. No. of times team winning toss wins game\n",
    "2. Toss wins by each team\n",
    "3. No. of times team winning toss wins final\n",
    "4. Choosen bat/bowl after toss\n",
    "5. Commom toss option for each venue"
   ]
  },
  {
   "cell_type": "markdown",
   "metadata": {},
   "source": [
    "Add some results using above graphs"
   ]
  },
  {
   "cell_type": "markdown",
   "metadata": {},
   "source": [
    "## Net Run Rate for each Match\n",
    "1. Density plot of NRR\n",
    "2. Team with highest NRR"
   ]
  },
  {
   "cell_type": "markdown",
   "metadata": {},
   "source": [
    "Add some results"
   ]
  },
  {
   "cell_type": "markdown",
   "metadata": {},
   "source": [
    "## Super Over Per Season\n",
    "1. Add super over\n",
    "2. team with most super over\n",
    "3. team winning most super over"
   ]
  },
  {
   "cell_type": "markdown",
   "metadata": {},
   "source": [
    "Add some results"
   ]
  },
  {
   "cell_type": "markdown",
   "metadata": {},
   "source": [
    "## Favourites IPL Umpires\n",
    "1. Favourite overall umpire\n",
    "2. Favourite umpire for play offs"
   ]
  },
  {
   "cell_type": "markdown",
   "metadata": {},
   "source": [
    "results"
   ]
  },
  {
   "cell_type": "markdown",
   "metadata": {},
   "source": [
    "## Team Journey For RCB\n",
    "1. Journey Plot\n",
    "2. Percentage win/loss against opponent\n",
    "3. Win Percentage for each season\n",
    "4. Win percentage by venue\n",
    "5. percentage win by innings\n",
    "6. All time top scorer batsman\n",
    "7. top scorer against opponent\n",
    "8. top run scorer per season\n",
    "9. all time partnership\n",
    "10. top bowlers by wicket\n",
    "11. top bowler against opponent\n",
    "12. top bowler per season"
   ]
  },
  {
   "cell_type": "markdown",
   "metadata": {},
   "source": [
    "results"
   ]
  },
  {
   "cell_type": "code",
   "execution_count": null,
   "metadata": {},
   "outputs": [],
   "source": []
  }
 ],
 "metadata": {
  "kernelspec": {
   "display_name": "Python 3",
   "language": "python",
   "name": "python3"
  },
  "language_info": {
   "codemirror_mode": {
    "name": "ipython",
    "version": 3
   },
   "file_extension": ".py",
   "mimetype": "text/x-python",
   "name": "python",
   "nbconvert_exporter": "python",
   "pygments_lexer": "ipython3",
   "version": "3.9.2"
  }
 },
 "nbformat": 4,
 "nbformat_minor": 4
}
